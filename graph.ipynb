{
  "nbformat": 4,
  "nbformat_minor": 0,
  "metadata": {
    "colab": {
      "name": "graph.ipynb",
      "provenance": [],
      "authorship_tag": "ABX9TyPuk0+21qy122vvkybmQtMY",
      "include_colab_link": true
    },
    "kernelspec": {
      "name": "python3",
      "display_name": "Python 3"
    },
    "language_info": {
      "name": "python"
    }
  },
  "cells": [
    {
      "cell_type": "markdown",
      "metadata": {
        "id": "view-in-github",
        "colab_type": "text"
      },
      "source": [
        "<a href=\"https://colab.research.google.com/github/jeslynlamxy/path-finding-in-road-networks/blob/main/graph.ipynb\" target=\"_parent\"><img src=\"https://colab.research.google.com/assets/colab-badge.svg\" alt=\"Open In Colab\"/></a>"
      ]
    },
    {
      "cell_type": "markdown",
      "metadata": {
        "id": "NjV1Upol1gTx"
      },
      "source": [
        "# Testing out \n",
        "\n",
        "https://towardsdatascience.com/visualizing-networks-in-python-d70f4cbeb259"
      ]
    },
    {
      "cell_type": "code",
      "metadata": {
        "id": "nT1GJqPRydUB"
      },
      "source": [
        "import pandas as pd\n",
        "import networkx as nx\n",
        "import matplotlib.pyplot as plt\n",
        "%matplotlib inline"
      ],
      "execution_count": 1,
      "outputs": []
    },
    {
      "cell_type": "code",
      "metadata": {
        "id": "4gM93gkuzEox"
      },
      "source": [
        "# # load data\n",
        "# df = pd.read_csv(\"data/book1.csv\")\n",
        "# # pick only important weights (hard threshold)\n",
        "# df = df.loc[df['weight']>10, :]\n",
        "# df"
      ],
      "execution_count": 2,
      "outputs": []
    },
    {
      "cell_type": "code",
      "metadata": {
        "colab": {
          "base_uri": "https://localhost:8080/"
        },
        "id": "Yf6C9uCUzRVk",
        "outputId": "f5429303-0128-4b35-b3a2-cea0f2d4b40a"
      },
      "source": [
        "from networkx.generators.random_graphs import erdos_renyi_graph\n",
        "n = 6\n",
        "p = 0.5\n",
        "g = erdos_renyi_graph(n, p)\n",
        "print(g.nodes)\n",
        "# [0, 1, 2, 3, 4, 5]\n",
        "print(g.edges)\n",
        "# [(0, 1), (0, 2), (0, 4), (1, 2), (1, 5), (3, 4), (4, 5)]"
      ],
      "execution_count": 3,
      "outputs": [
        {
          "output_type": "stream",
          "name": "stdout",
          "text": [
            "[0, 1, 2, 3, 4, 5]\n",
            "[(0, 3), (0, 4), (0, 5), (1, 2), (1, 4), (2, 5), (3, 5), (4, 5)]\n"
          ]
        }
      ]
    },
    {
      "cell_type": "code",
      "metadata": {
        "colab": {
          "base_uri": "https://localhost:8080/"
        },
        "id": "lv4X1kk7zIGC",
        "outputId": "55b8454c-0d7a-42cc-b723-e2f85b5c2036"
      },
      "source": [
        "# import\n",
        "import networkx as nx\n",
        "\n",
        "# load pandas df as networkx graph\n",
        "# G = nx.from_pandas_edgelist(df, \n",
        "#                             source='Source', \n",
        "#                             target='Target', \n",
        "#                             edge_attr='weight')\n",
        "\n",
        "G = nx.Graph()\n",
        "connections = set(g.edges)\n",
        "nodes = set(g.nodes)\n",
        "G.add_nodes_from(nodes)\n",
        "G.add_edges_from(connections)\n",
        "\n",
        "# plt.subplots(figsize=(150, 120))\n",
        "# plt.title(\"SFlow Data Potential Sub Networks\", fontsize=150)\n",
        "# pos = nx.spring_layout(G, scale=1.0, iterations=100)\n",
        "# nx.draw(G, pos, node_color='c', edge_color='k', with_labels=True)\n",
        "# plt.savefig(\"Network_graph.png\", format=\"PNG\")\n",
        "# plt.show(block=False)\n",
        "\n",
        "print(\"No of unique characters:\", len(G.nodes))\n",
        "print(\"No of connections:\", len(G.edges))"
      ],
      "execution_count": 4,
      "outputs": [
        {
          "output_type": "stream",
          "name": "stdout",
          "text": [
            "No of unique characters: 6\n",
            "No of connections: 8\n"
          ]
        }
      ]
    },
    {
      "cell_type": "code",
      "metadata": {
        "colab": {
          "base_uri": "https://localhost:8080/",
          "height": 490
        },
        "id": "vzOQCa31zJ1-",
        "outputId": "f5a88e0c-f3ff-4bce-d76b-f4b7c20a6b3f"
      },
      "source": [
        "# all graph options\n",
        "graphs_viz_options = [nx.draw, nx.draw_networkx, nx.draw_circular, nx.draw_kamada_kawai, nx.draw_random, nx.draw_shell, nx.draw_spring]\n",
        "\n",
        "# plot graph option\n",
        "selected_graph_option = 1\n",
        "\n",
        "# plot\n",
        "plt.figure(figsize=(8,6), dpi=100) \n",
        "graphs_viz_options[selected_graph_option](G)"
      ],
      "execution_count": 7,
      "outputs": [
        {
          "output_type": "display_data",
          "data": {
            "image/png": "[encoded data removed]",
            "text/plain": [
              "<Figure size 800x600 with 1 Axes>"
            ]
          },
          "metadata": {}
        }
      ]
    },
    {
      "cell_type": "code",
      "metadata": {
        "colab": {
          "base_uri": "https://localhost:8080/"
        },
        "id": "e7h90wpl085k",
        "outputId": "e2683bc2-0004-4951-9bc3-c35e362a971a"
      },
      "source": [
        "!pip install pyvis"
      ],
      "execution_count": 9,
      "outputs": [
        {
          "output_type": "stream",
          "name": "stdout",
          "text": [
            "Collecting pyvis\n",
            "  Downloading pyvis-0.1.9-py3-none-any.whl (23 kB)\n",
            "Collecting jsonpickle>=1.4.1\n",
            "  Downloading jsonpickle-2.0.0-py2.py3-none-any.whl (37 kB)\n",
            "Requirement already satisfied: ipython>=5.3.0 in /usr/local/lib/python3.7/dist-packages (from pyvis) (5.5.0)\n",
            "Requirement already satisfied: networkx>=1.11 in /usr/local/lib/python3.7/dist-packages (from pyvis) (2.6.3)\n",
            "Requirement already satisfied: jinja2>=2.9.6 in /usr/local/lib/python3.7/dist-packages (from pyvis) (2.11.3)\n",
            "Requirement already satisfied: pickleshare in /usr/local/lib/python3.7/dist-packages (from ipython>=5.3.0->pyvis) (0.7.5)\n",
            "Requirement already satisfied: simplegeneric>0.8 in /usr/local/lib/python3.7/dist-packages (from ipython>=5.3.0->pyvis) (0.8.1)\n",
            "Requirement already satisfied: pexpect in /usr/local/lib/python3.7/dist-packages (from ipython>=5.3.0->pyvis) (4.8.0)\n",
            "Requirement already satisfied: setuptools>=18.5 in /usr/local/lib/python3.7/dist-packages (from ipython>=5.3.0->pyvis) (57.4.0)\n",
            "Requirement already satisfied: decorator in /usr/local/lib/python3.7/dist-packages (from ipython>=5.3.0->pyvis) (4.4.2)\n",
            "Requirement already satisfied: pygments in /usr/local/lib/python3.7/dist-packages (from ipython>=5.3.0->pyvis) (2.6.1)\n",
            "Requirement already satisfied: prompt-toolkit<2.0.0,>=1.0.4 in /usr/local/lib/python3.7/dist-packages (from ipython>=5.3.0->pyvis) (1.0.18)\n",
            "Requirement already satisfied: traitlets>=4.2 in /usr/local/lib/python3.7/dist-packages (from ipython>=5.3.0->pyvis) (5.1.0)\n",
            "Requirement already satisfied: MarkupSafe>=0.23 in /usr/local/lib/python3.7/dist-packages (from jinja2>=2.9.6->pyvis) (2.0.1)\n",
            "Requirement already satisfied: importlib-metadata in /usr/local/lib/python3.7/dist-packages (from jsonpickle>=1.4.1->pyvis) (4.8.1)\n",
            "Requirement already satisfied: six>=1.9.0 in /usr/local/lib/python3.7/dist-packages (from prompt-toolkit<2.0.0,>=1.0.4->ipython>=5.3.0->pyvis) (1.15.0)\n",
            "Requirement already satisfied: wcwidth in /usr/local/lib/python3.7/dist-packages (from prompt-toolkit<2.0.0,>=1.0.4->ipython>=5.3.0->pyvis) (0.2.5)\n",
            "Requirement already satisfied: typing-extensions>=3.6.4 in /usr/local/lib/python3.7/dist-packages (from importlib-metadata->jsonpickle>=1.4.1->pyvis) (3.7.4.3)\n",
            "Requirement already satisfied: zipp>=0.5 in /usr/local/lib/python3.7/dist-packages (from importlib-metadata->jsonpickle>=1.4.1->pyvis) (3.6.0)\n",
            "Requirement already satisfied: ptyprocess>=0.5 in /usr/local/lib/python3.7/dist-packages (from pexpect->ipython>=5.3.0->pyvis) (0.7.0)\n",
            "Installing collected packages: jsonpickle, pyvis\n",
            "Successfully installed jsonpickle-2.0.0 pyvis-0.1.9\n"
          ]
        }
      ]
    },
    {
      "cell_type": "code",
      "metadata": {
        "colab": {
          "base_uri": "https://localhost:8080/",
          "height": 621
        },
        "id": "lRkuLt4yzLpM",
        "outputId": "a15eab3a-053c-4c1e-f0f3-e9a8027253a6"
      },
      "source": [
        "# import pyvis\n",
        "from pyvis.network import Network\n",
        "# create vis network\n",
        "net = Network(notebook=True, width=1000, height=600)\n",
        "# load the networkx graph\n",
        "net.from_nx(G)\n",
        "# show\n",
        "net.show(\"example.html\")"
      ],
      "execution_count": 11,
      "outputs": [
        {
          "output_type": "execute_result",
          "data": {
            "text/html": [
              "\n",
              "        <iframe\n",
              "            width=\"1000\"\n",
              "            height=\"600\"\n",
              "            src=\"example.html\"\n",
              "            frameborder=\"0\"\n",
              "            allowfullscreen\n",
              "        ></iframe>\n",
              "        "
            ],
            "text/plain": [
              "<IPython.lib.display.IFrame at 0x7f0a0a628710>"
            ]
          },
          "metadata": {},
          "execution_count": 11
        }
      ]
    },
    {
      "cell_type": "code",
      "metadata": {
        "id": "1wbIQFVAzLvN"
      },
      "source": [
        ""
      ],
      "execution_count": null,
      "outputs": []
    }
  ]
}